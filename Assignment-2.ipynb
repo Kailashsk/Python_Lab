{
 "cells": [
  {
   "cell_type": "code",
   "execution_count": 1,
   "metadata": {},
   "outputs": [
    {
     "name": "stdout",
     "output_type": "stream",
     "text": [
      "7\n"
     ]
    }
   ],
   "source": [
    "#No_1\n",
    "str=\"Kailash\"\n",
    "print(len(str))"
   ]
  },
  {
   "cell_type": "code",
   "execution_count": 2,
   "metadata": {},
   "outputs": [
    {
     "name": "stdout",
     "output_type": "stream",
     "text": [
      "kailash\n"
     ]
    }
   ],
   "source": [
    "#No_2\n",
    "str=\"Kailash\"\n",
    "print(str.lower())"
   ]
  },
  {
   "cell_type": "code",
   "execution_count": 3,
   "metadata": {},
   "outputs": [
    {
     "name": "stdout",
     "output_type": "stream",
     "text": [
      "Kailash\n",
      "Kaelash\n"
     ]
    }
   ],
   "source": [
    "#No_3\n",
    "str=\"Kailash\"\n",
    "new_str=str.replace(\"i\",\"e\")\n",
    "print(str)\n",
    "print(new_str)"
   ]
  },
  {
   "cell_type": "code",
   "execution_count": 7,
   "metadata": {},
   "outputs": [
    {
     "name": "stdout",
     "output_type": "stream",
     "text": [
      "['i', 't', 'e', 'r']\n"
     ]
    }
   ],
   "source": [
    "#No_4\n",
    "a=[\"i\"]\n",
    "b=[\"t\"]\n",
    "c=[\"e\"]\n",
    "d=[\"r\"]\n",
    "\n",
    "f=a+b+c+d\n",
    "print(f)"
   ]
  },
  {
   "cell_type": "code",
   "execution_count": 13,
   "metadata": {},
   "outputs": [
    {
     "name": "stdout",
     "output_type": "stream",
     "text": [
      "hijklmnopqrst\n"
     ]
    }
   ],
   "source": [
    "#No_5\n",
    "str=\"abcdefghijklmnopqrstuvxyz\"\n",
    "print(str[7:20])"
   ]
  },
  {
   "cell_type": "code",
   "execution_count": 14,
   "metadata": {},
   "outputs": [
    {
     "name": "stdout",
     "output_type": "stream",
     "text": [
      "sh, Pi\n"
     ]
    }
   ],
   "source": [
    "#No_6\n",
    "str=\"Kailash, Pihu\"\n",
    "print(str[5:-2])"
   ]
  },
  {
   "cell_type": "code",
   "execution_count": 15,
   "metadata": {},
   "outputs": [
    {
     "name": "stdout",
     "output_type": "stream",
     "text": [
      "['a', 'replace', 'replace', 'd', 'e']\n"
     ]
    }
   ],
   "source": [
    "#No_7\n",
    "str=[\"a\",\"b\",\"c\",\"d\",\"e\"]\n",
    "str[1]=\"replace\"\n",
    "str[2]=\"replace\"\n",
    "print(str)"
   ]
  },
  {
   "cell_type": "code",
   "execution_count": 16,
   "metadata": {},
   "outputs": [
    {
     "name": "stdout",
     "output_type": "stream",
     "text": [
      "['a', 'c', 'd']\n"
     ]
    }
   ],
   "source": [
    "#No_8\n",
    "str=[\"a\",\"b\",\"c\",\"d\"]\n",
    "str.pop(1)\n",
    "print(str)"
   ]
  },
  {
   "cell_type": "code",
   "execution_count": 20,
   "metadata": {},
   "outputs": [
    {
     "name": "stdout",
     "output_type": "stream",
     "text": [
      "['b', 'c']\n"
     ]
    }
   ],
   "source": [
    "#No_9\n",
    "str=[\"a\",\"b\",\"c\",\"d\"]\n",
    "str.pop()\n",
    "del str[0]\n",
    "print(str)"
   ]
  },
  {
   "cell_type": "code",
   "execution_count": 21,
   "metadata": {},
   "outputs": [
    {
     "name": "stdout",
     "output_type": "stream",
     "text": [
      "[2, 2, 4, 6, 9]\n"
     ]
    }
   ],
   "source": [
    "#No_10\n",
    "str=[6,9,2,4,2]\n",
    "str.sort()\n",
    "print(str)"
   ]
  },
  {
   "cell_type": "code",
   "execution_count": 22,
   "metadata": {},
   "outputs": [
    {
     "name": "stdout",
     "output_type": "stream",
     "text": [
      "[9, 6, 4, 2, 2]\n"
     ]
    }
   ],
   "source": [
    "#No_11\n",
    "str=[6,9,2,4,2]\n",
    "str.sort(reverse=True)\n",
    "print(str)"
   ]
  }
 ],
 "metadata": {
  "kernelspec": {
   "display_name": "Python 3.10.8 64-bit",
   "language": "python",
   "name": "python3"
  },
  "language_info": {
   "codemirror_mode": {
    "name": "ipython",
    "version": 3
   },
   "file_extension": ".py",
   "mimetype": "text/x-python",
   "name": "python",
   "nbconvert_exporter": "python",
   "pygments_lexer": "ipython3",
   "version": "3.10.8"
  },
  "orig_nbformat": 4,
  "vscode": {
   "interpreter": {
    "hash": "369f2c481f4da34e4445cda3fffd2e751bd1c4d706f27375911949ba6bb62e1c"
   }
  }
 },
 "nbformat": 4,
 "nbformat_minor": 2
}
