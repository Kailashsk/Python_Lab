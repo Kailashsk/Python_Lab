#No_1
name="Kailash"
add="Sambalpur"
print(name)
print(add)
#No_2
a=2
b=4
print("Addition",a+b)
print("Substraction",a-b)
print("Multiplication",a*b)
print("Division",a/b)
#No_3
a=int(input("Enter a number"))
b=int(input("Enter a number"))

print("Addition",a+b)
print("Substraction",a-b)
print("Multiplication",a*b)
print("Division",a/b)
#No_4
a=int(input("Enter first number"))
b=int(input("Enter second number"))
c=int(input("Enter third number"))

avg=(a+b+c)/3  
print(avg)
#No_5
import cmath
a=float(input("Enter first number"))
b=float(input("Enter second number"))
c=float(input("Enter third number"))

d = (b**2) - (4*a*c)

x=-b+(cmath.sqrt(d)/(2*a))
y=-b-(cmath.sqrt(d)/(2*a))
print(x)
print(y)
#No_6
s1 = float(input("Enter the first side of the triangle : "))
s2 = float(input("Enter the second side of the triangle : "))
s3 = float(input("Enter the third side of the triangle : "))

p = (s1 + s2 + s3)
s = p/2

area = (s * (s-s1) * (s-s2)*(s-s3))**0.5

print("The perimeter of the triangle is : {0:.2f}".format(p))
print("The area of the triangle is : {0:.2f}".format(area))

#No_7
s1 = float(input("Enter the radius of a circle : "))

area=3.14*s1*s1
perimeter=2*3.14*s1

print("The perimeter of the circle is : {0:.2f}".format(perimeter))
print("The area of the circle is : {0:.2f}".format(area))
#No_8
s1 = int(input("Enter a number : "))
s2 = int(input("Enter a number : "))

temp=s1
s1=s2
s2=temp

print("After Swap :",s1)
print("Before Swap",s2)
#No_9
s1 = int(input("Enter a number : "))
s2 = int(input("Enter a number : "))

s1,s2=s2,s1

print("After Swap :",s1)
print("Before Swap",s2)
