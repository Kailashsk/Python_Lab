{
 "cells": [
  {
   "cell_type": "code",
   "execution_count": 1,
   "metadata": {},
   "outputs": [
    {
     "name": "stdout",
     "output_type": "stream",
     "text": [
      "Kailash\n",
      "Sambalpur\n"
     ]
    }
   ],
   "source": [
    "#No_1\n",
    "name=\"Kailash\"\n",
    "add=\"Sambalpur\"\n",
    "print(name)\n",
    "print(add)"
   ]
  },
  {
   "cell_type": "code",
   "execution_count": 2,
   "metadata": {},
   "outputs": [
    {
     "name": "stdout",
     "output_type": "stream",
     "text": [
      "Addition 6\n",
      "Substraction -2\n",
      "Multiplication 8\n",
      "Division 0.5\n"
     ]
    }
   ],
   "source": [
    "#No_2\n",
    "a=2\n",
    "b=4\n",
    "print(\"Addition\",a+b)\n",
    "print(\"Substraction\",a-b)\n",
    "print(\"Multiplication\",a*b)\n",
    "print(\"Division\",a/b)"
   ]
  },
  {
   "cell_type": "code",
   "execution_count": 3,
   "metadata": {},
   "outputs": [],
   "source": [
    "#No_3\n",
    "a=int(input(\"Enter a number\"))\n",
    "b=int(input(\"Enter a number\"))\n",
    "\n",
    "print(\"Addition\",a+b)\n",
    "print(\"Substraction\",a-b)\n",
    "print(\"Multiplication\",a*b)\n",
    "print(\"Division\",a/b)"
   ]
  },
  {
   "cell_type": "code",
   "execution_count": 2,
   "metadata": {},
   "outputs": [],
   "source": [
    "#No_4\n",
    "a=int(input(\"Enter first number\"))\n",
    "b=int(input(\"Enter second number\"))\n",
    "c=int(input(\"Enter third number\"))\n",
    "\n",
    "avg=(a+b+c)/3  \n",
    "print(avg)"
   ]
  },
  {
   "cell_type": "code",
   "execution_count": 1,
   "metadata": {},
   "outputs": [],
   "source": [
    "#No_5\n",
    "import cmath\n",
    "a=float(input(\"Enter first number\"))\n",
    "b=float(input(\"Enter second number\"))\n",
    "c=float(input(\"Enter third number\"))\n",
    "\n",
    "d = (b**2) - (4*a*c)\n",
    "\n",
    "x=-b+(cmath.sqrt(d)/(2*a))\n",
    "y=-b-(cmath.sqrt(d)/(2*a))\n",
    "print(x)\n",
    "print(y)"
   ]
  },
  {
   "cell_type": "code",
   "execution_count": 1,
   "metadata": {},
   "outputs": [],
   "source": [
    "#No_6\n",
    "s1 = float(input(\"Enter the first side of the triangle : \"))\n",
    "s2 = float(input(\"Enter the second side of the triangle : \"))\n",
    "s3 = float(input(\"Enter the third side of the triangle : \"))\n",
    "\n",
    "p = (s1 + s2 + s3)\n",
    "s = p/2\n",
    "\n",
    "area = (s * (s-s1) * (s-s2)*(s-s3))**0.5\n",
    "\n",
    "print(\"The perimeter of the triangle is : {0:.2f}\".format(p))\n",
    "print(\"The area of the triangle is : {0:.2f}\".format(area))\n"
   ]
  },
  {
   "cell_type": "code",
   "execution_count": null,
   "metadata": {},
   "outputs": [],
   "source": [
    "#No_7\n",
    "s1 = float(input(\"Enter the radius of a circle : \"))\n",
    "\n",
    "area=3.14*s1*s1\n",
    "perimeter=2*3.14*s1\n",
    "\n",
    "print(\"The perimeter of the circle is : {0:.2f}\".format(perimeter))\n",
    "print(\"The area of the circle is : {0:.2f}\".format(area))"
   ]
  },
  {
   "cell_type": "code",
   "execution_count": null,
   "metadata": {},
   "outputs": [],
   "source": [
    "#No_8\n",
    "s1 = int(input(\"Enter a number : \"))\n",
    "s2 = int(input(\"Enter a number : \"))\n",
    "\n",
    "temp=s1\n",
    "s1=s2\n",
    "s2=temp\n",
    "\n",
    "print(\"After Swap :\",s1)\n",
    "print(\"Before Swap\",s2)"
   ]
  },
  {
   "cell_type": "code",
   "execution_count": null,
   "metadata": {},
   "outputs": [],
   "source": [
    "#No_9\n",
    "s1 = int(input(\"Enter a number : \"))\n",
    "s2 = int(input(\"Enter a number : \"))\n",
    "\n",
    "s1,s2=s2,s1\n",
    "\n",
    "print(\"After Swap :\",s1)\n",
    "print(\"Before Swap\",s2)"
   ]
  }
 ],
 "metadata": {
  "kernelspec": {
   "display_name": "Python 3.10.8 64-bit",
   "language": "python",
   "name": "python3"
  },
  "language_info": {
   "codemirror_mode": {
    "name": "ipython",
    "version": 3
   },
   "file_extension": ".py",
   "mimetype": "text/x-python",
   "name": "python",
   "nbconvert_exporter": "python",
   "pygments_lexer": "ipython3",
   "version": "3.10.8"
  },
  "orig_nbformat": 4,
  "vscode": {
   "interpreter": {
    "hash": "369f2c481f4da34e4445cda3fffd2e751bd1c4d706f27375911949ba6bb62e1c"
   }
  }
 },
 "nbformat": 4,
 "nbformat_minor": 2
}
