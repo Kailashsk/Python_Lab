{
 "cells": [
  {
   "cell_type": "code",
   "execution_count": 1,
   "metadata": {},
   "outputs": [
    {
     "name": "stdout",
     "output_type": "stream",
     "text": [
      "2\n"
     ]
    }
   ],
   "source": [
    "#No_1\n",
    "this_tuple=(1,3,8,7,5,4,6,8,5)\n",
    "x=this_tuple.index(8)\n",
    "print(x)"
   ]
  },
  {
   "cell_type": "code",
   "execution_count": 6,
   "metadata": {},
   "outputs": [
    {
     "name": "stdout",
     "output_type": "stream",
     "text": [
      "dict_keys(['name', 'age', 'salary'])\n"
     ]
    }
   ],
   "source": [
    "#No_2\n",
    "emp={'name':\"Kailash\",\n",
    "     'age':22,\n",
    "     'salary':70000\n",
    "    }\n",
    "dic_keys=emp.keys()\n",
    "print(dic_keys)\n"
   ]
  },
  {
   "cell_type": "code",
   "execution_count": 8,
   "metadata": {},
   "outputs": [
    {
     "name": "stdout",
     "output_type": "stream",
     "text": [
      "{1: 'a', 2: 'c', 4: 'd'}\n"
     ]
    }
   ],
   "source": [
    "#No_3\n",
    "dic1={1:'a',2:'b'}\n",
    "dic2={2:'c',4:'d'}\n",
    "print(dic1 | dic2)"
   ]
  },
  {
   "cell_type": "code",
   "execution_count": null,
   "metadata": {},
   "outputs": [],
   "source": [
    "#No_4\n",
    "num = int(input(\"Enter a number : \"))\n",
    "\n",
    "if num%2==0:\n",
    "    print(\"{0} is even\".format(num))\n",
    "else:\n",
    "    print(\"{0} is odd\".format(num))\n"
   ]
  },
  {
   "cell_type": "code",
   "execution_count": null,
   "metadata": {},
   "outputs": [],
   "source": [
    "#No_5\n",
    "table = int(input(\"Enter the number : \"))\n",
    "start = int(input(\"Enter the Starting number : \"))\n",
    "limit = int(input(\"Enter the limit number : \"))\n",
    "\n",
    "while start<=limit:\n",
    "    print(start,\" * \",table,\" = \",start*table)\n",
    "    start=start+1;"
   ]
  },
  {
   "cell_type": "code",
   "execution_count": 10,
   "metadata": {},
   "outputs": [
    {
     "name": "stdout",
     "output_type": "stream",
     "text": [
      "[9, 25, 1, 16, 36]\n"
     ]
    }
   ],
   "source": [
    "#No_6\n",
    "list=[3,5,1,4,6]\n",
    "for i in range (len(list)):\n",
    "    list[i]=list[i]**2\n",
    "print(list)"
   ]
  },
  {
   "cell_type": "code",
   "execution_count": 29,
   "metadata": {},
   "outputs": [
    {
     "data": {
      "text/plain": [
       "15"
      ]
     },
     "execution_count": 29,
     "metadata": {},
     "output_type": "execute_result"
    }
   ],
   "source": [
    "#No_7\n",
    "def sum1(num):\n",
    "    total=0\n",
    "    for num1 in num:\n",
    "        total+=num1\n",
    "    return total\n",
    "\n",
    "sum1([1,2,3,4,5])\n"
   ]
  },
  {
   "cell_type": "code",
   "execution_count": 30,
   "metadata": {},
   "outputs": [
    {
     "name": "stdout",
     "output_type": "stream",
     "text": [
      "25\n"
     ]
    }
   ],
   "source": [
    "#No_8\n",
    "def square(num):\n",
    "    result=pow(num,2)\n",
    "    print(result)\n",
    "square(5)"
   ]
  }
 ],
 "metadata": {
  "kernelspec": {
   "display_name": "Python 3.10.8 64-bit",
   "language": "python",
   "name": "python3"
  },
  "language_info": {
   "codemirror_mode": {
    "name": "ipython",
    "version": 3
   },
   "file_extension": ".py",
   "mimetype": "text/x-python",
   "name": "python",
   "nbconvert_exporter": "python",
   "pygments_lexer": "ipython3",
   "version": "3.10.8"
  },
  "orig_nbformat": 4,
  "vscode": {
   "interpreter": {
    "hash": "369f2c481f4da34e4445cda3fffd2e751bd1c4d706f27375911949ba6bb62e1c"
   }
  }
 },
 "nbformat": 4,
 "nbformat_minor": 2
}
